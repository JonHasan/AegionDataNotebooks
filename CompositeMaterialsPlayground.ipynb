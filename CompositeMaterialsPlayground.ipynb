{
 "cells": [
  {
   "cell_type": "markdown",
   "metadata": {},
   "source": [
    "# Welcome to the Composite Materials Playground\n",
    "\n",
    "## Here you can create your own composite materials and predict their properties. \n",
    "\n",
    "We will go through creating materials classes for composite materials with two components and composite materials with three components.\n",
    "\n",
    "![title](img/composite.png)"
   ]
  },
  {
   "cell_type": "markdown",
   "metadata": {},
   "source": [
    "# Class Builder\n",
    "## Define the classes for creating composite material objects with 2 materials and 3 materials\n",
    "\n",
    "The below cell contains classes for materials with two and three components"
   ]
  },
  {
   "cell_type": "code",
   "execution_count": 78,
   "metadata": {},
   "outputs": [],
   "source": [
    "class Composites_Builder_2:\n",
    "    def __init__(material, DensityP1, DensityP2, Mass_FractionP1 , Mass_FractionP2, TensStrengthP1, TensStrengthP2 ):\n",
    "        material.DensityP1 = DensityP1\n",
    "        material.DensityP2 = DensityP2\n",
    "        material.Mass_FractionP1 = Mass_FractionP1\n",
    "        material.Mass_FractionP2 = Mass_FractionP2\n",
    "        material.YoungsModulusP1 = YoungsModulusP1\n",
    "        material.YoungsModulusP2 = YoungsModulusP2 \n",
    "        material.TensStrengthP1 = TensStrengthP1\n",
    "        material.TensStrengthP2 = TensStrengthP2 \n",
    "        \n",
    "class Composites_Builder_3:\n",
    "    def __init__(material, DensityP1, DensityP2, DensityP3, Mass_FractionP1 , Mass_FractionP2, \n",
    "                 Mass_FractionP3, TensStrengthP1, TensStrengthP2, TensStrengthP3 ):\n",
    "        material.DensityP1 = DensityP1\n",
    "        material.DensityP2 = DensityP2\n",
    "        material.DensityP3 = DensityP3\n",
    "        material.Mass_FractionP1 = Mass_FractionP1\n",
    "        material.Mass_FractionP2 = Mass_FractionP2\n",
    "        material.Mass_FractionP3 = Mass_FractionP3\n",
    "        material.YoungsModulusP1 = YoungsModulusP1\n",
    "        material.YoungsModulusP2 = YoungsModulusP2\n",
    "        material.YoungsModulusP3 = YoungsModulusP3\n",
    "        material.TensStrengthP1 = TensStrengthP1\n",
    "        material.TensStrengthP2 = TensStrengthP2\n",
    "        material.TensStrengthP3 = TensStrengthP3"
   ]
  },
  {
   "cell_type": "markdown",
   "metadata": {},
   "source": [
    "# Materials Playground\n",
    "Use below cells to play around with different configurations of materials\n",
    "\n",
    "Change the values for thre respective properties below and see results"
   ]
  },
  {
   "cell_type": "markdown",
   "metadata": {},
   "source": [
    "# Materials Creator: Two constituents "
   ]
  },
  {
   "cell_type": "code",
   "execution_count": 42,
   "metadata": {},
   "outputs": [],
   "source": [
    "material1 = Composites_Builder_2(1.0, 2.0, .30, .70, 10000, 20000)\n",
    "\n",
    "material2 = Composites_Builder_2(3.0, 2.0, .45, .65, 12000, 34000)\n",
    "\n",
    "material3 = Composites_Builder_2(2.3, 5.5, .90, .10, 25000, 12000)"
   ]
  },
  {
   "cell_type": "markdown",
   "metadata": {},
   "source": [
    "# Materials Creator: Three constitutents"
   ]
  },
  {
   "cell_type": "code",
   "execution_count": 43,
   "metadata": {},
   "outputs": [],
   "source": [
    "material4 = Composites_Builder_3(1,2,3,.10,.20,.70, 10000, 20000, 30000)\n",
    "\n",
    "material5 = Composites_Builder_3(1,3,2.5, .30, .40, .30, 12000, 15400, 1200)\n",
    "\n",
    "material6 = Composites_Builder_3(2, 1.3, 2.9, .15, .45,.40, 9800, 2000, 1310)"
   ]
  },
  {
   "cell_type": "markdown",
   "metadata": {},
   "source": [
    "# Evaulate the Composite Properties\n",
    "\n",
    "## Use function below\n",
    "\n",
    "The function takes attributes from the class and calculates composite properties try it out!"
   ]
  },
  {
   "cell_type": "code",
   "execution_count": 44,
   "metadata": {},
   "outputs": [],
   "source": [
    "def material_property_evaluator(*args):\n",
    "    \n",
    "    CompositeDensity = []\n",
    "    CompositeTensileStrength = []\n",
    "    \n",
    "    for a in args:\n",
    "        if hasattr(a, \"DensityP3\"):\n",
    "            \n",
    "            combinedDensity = a.DensityP1 * a.Mass_FractionP1 + a.DensityP2 * a.Mass_FractionP2 + a.DensityP3 * a.Mass_FractionP3\n",
    "            CompositeDensity.append(combinedDensity)\n",
    "\n",
    "            compositeStrength = a.TensStrengthP1 * a.Mass_FractionP1 + a.TensStrengthP2 * a.Mass_FractionP2 + a.TensStrengthP3 * a.Mass_FractionP3\n",
    "            CompositeTensileStrength.append(compositeStrength)\n",
    "        \n",
    "        else:\n",
    "            combinedDensity = a.DensityP1 * a.Mass_FractionP1 + a.DensityP2 * a.Mass_FractionP2 \n",
    "            CompositeDensity.append(combinedDensity)\n",
    "\n",
    "            compositeStrength = a.TensStrengthP1 * a.Mass_FractionP1 + a.TensStrengthP2 * a.Mass_FractionP2 \n",
    "            CompositeTensileStrength.append(compositeStrength) \n",
    "            \n",
    "        \n",
    "    \n",
    "    \n",
    "    return CompositeDensity, CompositeTensileStrength"
   ]
  },
  {
   "cell_type": "code",
   "execution_count": 56,
   "metadata": {},
   "outputs": [],
   "source": [
    "properties = material_property_evaluator(material1, material2, material4, material5)"
   ]
  },
  {
   "cell_type": "markdown",
   "metadata": {},
   "source": [
    "# Make a Data Table for the Property Values"
   ]
  },
  {
   "cell_type": "code",
   "execution_count": 57,
   "metadata": {},
   "outputs": [],
   "source": [
    "data = {'Density' : properties[0], \"Tensile Strength (psi)\" : properties[1]}"
   ]
  },
  {
   "cell_type": "code",
   "execution_count": 58,
   "metadata": {},
   "outputs": [],
   "source": [
    "import pandas as pd"
   ]
  },
  {
   "cell_type": "code",
   "execution_count": 59,
   "metadata": {},
   "outputs": [
    {
     "data": {
      "text/html": [
       "<div>\n",
       "<style scoped>\n",
       "    .dataframe tbody tr th:only-of-type {\n",
       "        vertical-align: middle;\n",
       "    }\n",
       "\n",
       "    .dataframe tbody tr th {\n",
       "        vertical-align: top;\n",
       "    }\n",
       "\n",
       "    .dataframe thead th {\n",
       "        text-align: right;\n",
       "    }\n",
       "</style>\n",
       "<table border=\"1\" class=\"dataframe\">\n",
       "  <thead>\n",
       "    <tr style=\"text-align: right;\">\n",
       "      <th></th>\n",
       "      <th>Density</th>\n",
       "      <th>Tensile Strength (psi)</th>\n",
       "    </tr>\n",
       "  </thead>\n",
       "  <tbody>\n",
       "    <tr>\n",
       "      <th>0</th>\n",
       "      <td>1.70</td>\n",
       "      <td>17000.0</td>\n",
       "    </tr>\n",
       "    <tr>\n",
       "      <th>1</th>\n",
       "      <td>2.65</td>\n",
       "      <td>27500.0</td>\n",
       "    </tr>\n",
       "    <tr>\n",
       "      <th>2</th>\n",
       "      <td>2.60</td>\n",
       "      <td>26000.0</td>\n",
       "    </tr>\n",
       "    <tr>\n",
       "      <th>3</th>\n",
       "      <td>2.25</td>\n",
       "      <td>10120.0</td>\n",
       "    </tr>\n",
       "  </tbody>\n",
       "</table>\n",
       "</div>"
      ],
      "text/plain": [
       "   Density  Tensile Strength (psi)\n",
       "0     1.70                 17000.0\n",
       "1     2.65                 27500.0\n",
       "2     2.60                 26000.0\n",
       "3     2.25                 10120.0"
      ]
     },
     "execution_count": 59,
     "metadata": {},
     "output_type": "execute_result"
    }
   ],
   "source": [
    "pd.DataFrame.from_dict(data)"
   ]
  },
  {
   "cell_type": "markdown",
   "metadata": {},
   "source": [
    "# Property Manipulator\n",
    "\n",
    "## Change one property and see how it affects whole composite\n",
    "\n",
    "Sometimes we want to change one property while keeping others constant. \n",
    "\n",
    "Lets see how to do this below. "
   ]
  },
  {
   "cell_type": "code",
   "execution_count": 77,
   "metadata": {},
   "outputs": [
    {
     "data": {
      "text/plain": [
       "[<matplotlib.lines.Line2D at 0x19d47677668>]"
      ]
     },
     "execution_count": 77,
     "metadata": {},
     "output_type": "execute_result"
    },
    {
     "data": {
      "image/png": "[encoded data removed]",
      "text/plain": [
       "<Figure size 432x288 with 1 Axes>"
      ]
     },
     "metadata": {
      "needs_background": "light"
     },
     "output_type": "display_data"
    }
   ],
   "source": [
    "#FuncAnimation object of the animation package.\n",
    "import matplotlib.pyplot as plt\n",
    "import time\n",
    "import random\n",
    "\n",
    "%matplotlib inline\n",
    "\n",
    "#ysample = random.sample(range(-50, 50), 100)\n",
    "\n",
    "\n",
    "#xdata = []\n",
    "#ydata = []\n",
    "\n",
    "xdata = range(len(properties[0]))\n",
    "\n",
    "ydata = properties[0]\n",
    "\n",
    "plt.show()\n",
    "\n",
    "plt.plot(xdata, ydata)\n",
    "\n",
    "\n",
    "# add this if you don't want the window to disappear at the end \n",
    "\n",
    "\n",
    "\n",
    "#plt.show()"
   ]
  },
  {
   "cell_type": "code",
   "execution_count": 73,
   "metadata": {},
   "outputs": [
    {
     "data": {
      "text/plain": [
       "[4]"
      ]
     },
     "execution_count": 73,
     "metadata": {},
     "output_type": "execute_result"
    }
   ],
   "source": [
    "[len(properties[0])]"
   ]
  },
  {
   "cell_type": "markdown",
   "metadata": {},
   "source": [
    "# Specially orthotropic composites\n",
    "\n",
    "## Q and S matrices\n",
    "\n",
    " generate the matrices that can allow you to convert between principal stresses and strains. "
   ]
  },
  {
   "cell_type": "code",
   "execution_count": 1,
   "metadata": {},
   "outputs": [],
   "source": [
    "import numpy as np \n",
    "# function in progress\n",
    "def S_matrix(E1, E2, G12, v12, v21):\n",
    "    \"\"\" Generates an S (Compliance) matrix that converts material stresses to material strains\"\"\"\n",
    "    \n",
    "    S11 = 1/E1\n",
    "    if v21 == 0:\n",
    "        S12 = -v12/E1\n",
    "    else:\n",
    "        S12 = -v21/E2\n",
    "    S22 = 1/E2\n",
    "    S66 = 1/G12\n",
    "    \n",
    "    S = np.array([[S11, S12, 0],[S12, S22, 0],[0,0,S66]])\n",
    "    \n",
    "    return S\n",
    "    \n",
    "def Q_matrix(E1,E2, G12, v12, v21):\n",
    "    \"\"\" Generates a Q (stiffness) matrix that converts material strains to material stresses \"\"\"\n",
    "    \n",
    "    Q11 = E1/(1 - v12 * v21)\n",
    "    Q22 = E2/(1-v12*v21)\n",
    "    Q12 = (v12*E2)/(1-v12*v21)\n",
    "    Q66 = G12\n",
    "    \n",
    "    Q = np.array([[Q11, Q12, 0], [Q12, Q22, 0],[0,0,Q66]])    \n",
    "    \n",
    "    return Q\n",
    "   "
   ]
  },
  {
   "cell_type": "code",
   "execution_count": 4,
   "metadata": {},
   "outputs": [
    {
     "name": "stdout",
     "output_type": "stream",
     "text": [
      "[[ 1. -1.  0.]\n",
      " [-1.  1.  0.]\n",
      " [ 0.  0.  1.]]\n",
      "[[1. 1. 0.]\n",
      " [1. 1. 0.]\n",
      " [0. 0. 1.]]\n"
     ]
    }
   ],
   "source": [
    "print(S_matrix(1,1,1,1,1))\n",
    "\n",
    "print(Q_matrix(1,1,1,1,0))"
   ]
  },
  {
   "cell_type": "markdown",
   "metadata": {},
   "source": [
    "# Generally orthotropic Plates\n",
    "\n",
    "## Transformation matrices\n",
    "\n",
    "For generally orthotropic lamina, since the load is placed at an angle other than 0 or 90 degrees, the stresses and strains have to transformed into coordinates that coincide with the material directions. Performing force balances provides 3 equations which can be represented in matrix form. The equation will be available below. "
   ]
  },
  {
   "cell_type": "code",
   "execution_count": 18,
   "metadata": {},
   "outputs": [
    {
     "name": "stdout",
     "output_type": "stream",
     "text": [
      "0.9852851019465001\n",
      "-0.1709188927014062\n"
     ]
    },
    {
     "data": {
      "text/plain": [
       "array([[ 0.97078673,  0.02921327, -0.33680768],\n",
       "       [ 0.02921327,  0.97078673,  0.33680768],\n",
       "       [ 0.16840384, -0.16840384,  0.94157346]])"
      ]
     },
     "execution_count": 18,
     "metadata": {},
     "output_type": "execute_result"
    }
   ],
   "source": [
    "import math\n",
    "\n",
    "def T_matrix(theta):\n",
    "    C = math.cos(theta * (180/math.pi))\n",
    "    S = math.sin(theta * (180/math.pi))\n",
    "    \n",
    "    print(C)\n",
    "    \n",
    "    print(S)\n",
    "    \n",
    "    \n",
    "    T = np.array([[C**2, S**2, 2 * S * C], [S**2, C**2, -2*S*C], [-S*C, S * C, C**2 - S**2]])\n",
    "    \n",
    "    return T \n",
    "\n",
    "T_matrix(25)"
   ]
  },
  {
   "cell_type": "markdown",
   "metadata": {},
   "source": [
    "If you want to go in the other direction, that is to say you want to go from the material axes to the principal axes, use the inverse of the T matrix "
   ]
  },
  {
   "cell_type": "code",
   "execution_count": 19,
   "metadata": {},
   "outputs": [],
   "source": [
    "from numpy.linalg import inv\n",
    "\n",
    "def T_Inverse(Matrix):\n",
    "    \n",
    "    X = inv(Matrix)\n",
    "    \n",
    "    return X"
   ]
  },
  {
   "cell_type": "code",
   "execution_count": 21,
   "metadata": {},
   "outputs": [
    {
     "name": "stdout",
     "output_type": "stream",
     "text": [
      "0.9852851019465001\n",
      "-0.1709188927014062\n"
     ]
    },
    {
     "data": {
      "text/plain": [
       "array([[ 0.97078673,  0.02921327,  0.33680768],\n",
       "       [ 0.02921327,  0.97078673, -0.33680768],\n",
       "       [-0.16840384,  0.16840384,  0.94157346]])"
      ]
     },
     "execution_count": 21,
     "metadata": {},
     "output_type": "execute_result"
    }
   ],
   "source": [
    "T_Inverse(T_matrix(25))"
   ]
  },
  {
   "cell_type": "code",
   "execution_count": null,
   "metadata": {},
   "outputs": [],
   "source": []
  }
 ],
 "metadata": {
  "kernelspec": {
   "display_name": "Python 3",
   "language": "python",
   "name": "python3"
  },
  "language_info": {
   "codemirror_mode": {
    "name": "ipython",
    "version": 3
   },
   "file_extension": ".py",
   "mimetype": "text/x-python",
   "name": "python",
   "nbconvert_exporter": "python",
   "pygments_lexer": "ipython3",
   "version": "3.7.3"
  }
 },
 "nbformat": 4,
 "nbformat_minor": 2
}
